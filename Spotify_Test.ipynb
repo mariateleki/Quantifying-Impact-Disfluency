{
 "cells": [
  {
   "cell_type": "markdown",
   "id": "23529e2e-e153-4323-b285-c0273cb859b4",
   "metadata": {},
   "source": [
    "# Spotify Podcasts"
   ]
  },
  {
   "cell_type": "code",
   "execution_count": null,
   "id": "f9a4ebde-3a39-4511-9936-420fbf0b062b",
   "metadata": {
    "tags": []
   },
   "outputs": [],
   "source": [
    "import os\n",
    "import difflib\n",
    "\n",
    "import utils_general\n",
    "import utils_podcasts"
   ]
  },
  {
   "cell_type": "code",
   "execution_count": null,
   "id": "d7f98837-aff2-4098-9000-3d34c37f81b2",
   "metadata": {},
   "outputs": [],
   "source": [
    "# necessary for nltk\n",
    "import nltk\n",
    "nltk.download('punkt')"
   ]
  },
  {
   "cell_type": "code",
   "execution_count": null,
   "id": "ec627fdc-e077-4a82-b01f-7e5e1e62759d",
   "metadata": {
    "tags": []
   },
   "outputs": [],
   "source": [
    "utils_podcasts.write_original_test_set_files_out()"
   ]
  },
  {
   "cell_type": "code",
   "execution_count": null,
   "id": "c815ff8e-6f3f-463d-bb94-ccf086a173e3",
   "metadata": {},
   "outputs": [],
   "source": [
    "utils_podcasts.write_transformed_test_set_files_out()"
   ]
  },
  {
   "cell_type": "markdown",
   "id": "58041d03-b4a4-4ca5-8895-095b7b797f35",
   "metadata": {
    "tags": []
   },
   "source": [
    "## File + transformations"
   ]
  },
  {
   "cell_type": "code",
   "execution_count": null,
   "id": "51940e08-bb70-4908-be97-87966c60877b",
   "metadata": {},
   "outputs": [],
   "source": [
    "episode = \"00DkMSm0fRH9TpwtvJL4N0\" # 00DkMSm0fRH9TpwtvJL4N0 00SE6vEbN1PU6OFV9anG5i 08RS6NQIGy9O2KyKVlCzdU\n",
    "num = \"3\"\n",
    "print(utils_general.read_file(os.path.join(\".\", \"spotify_test\", \"1min\", f\"{episode}.txt\")), \"\\n\")\n",
    "print(utils_general.read_file(os.path.join(\".\", \"spotify_test\", \"0\", f\"{episode}.txt\")), \"\\n\")\n",
    "print(utils_general.read_file(os.path.join(\".\", \"spotify_test\", \"repeats\", f\"{num}_{episode}.txt\")), \"\\n\")\n",
    "print(utils_general.read_file(os.path.join(\".\", \"spotify_test\", \"interjections\", f\"{num}_{episode}.txt\")), \"\\n\")\n",
    "print(utils_general.read_file(os.path.join(\".\", \"spotify_test\", \"false-starts\", f\"{num}_{episode}.txt\")), \"\\n\")\n",
    "print(utils_general.read_file(os.path.join(\".\", \"spotify_test\", \"all-3\", f\"{num}_{episode}.txt\")), \"\\n\")"
   ]
  },
  {
   "cell_type": "markdown",
   "id": "c8d22127-5733-4133-9355-adf74fec73f3",
   "metadata": {},
   "source": [
    "## Reproducibility Checks\n",
    "\n",
    "Makes sure that the output of these 3 files (selected randomly) is the same."
   ]
  },
  {
   "cell_type": "code",
   "execution_count": null,
   "id": "141856ee-8e43-47e9-82b9-dba3d6083a94",
   "metadata": {},
   "outputs": [],
   "source": [
    "random_file_1_path = os.path.join(\".\", \"spotify_test\", \"repeats-and-false-starts\",\"8_5CccnoO1WGVrT8YSiv3UnP.txt\")\n",
    "random_file_2_path = os.path.join(\".\", \"spotify_test\", \"interjections\",\"6_5CccnoO1WGVrT8YSiv3UnP.txt\")\n",
    "random_file_3_path = os.path.join(\".\", \"spotify_test\", \"all-3\",\"1_5CccnoO1WGVrT8YSiv3UnP.txt\")\n",
    "\n",
    "# reads the output of 3 files\n",
    "random_file_1 = utils_general.read_file(random_file_1_path)\n",
    "random_file_2 = utils_general.read_file(random_file_2_path)\n",
    "random_file_3 = utils_general.read_file(random_file_3_path)\n",
    "\n",
    "# re-runs the writing files out & transformations\n",
    "utils_podcasts.write_original_test_set_files_out()\n",
    "utils_podcasts.write_transformed_test_set_files_out()\n",
    "run2_random_file_1 = utils_general.read_file(random_file_1_path)\n",
    "run2_random_file_2 = utils_general.read_file(random_file_2_path)\n",
    "run2_random_file_3 = utils_general.read_file(random_file_3_path)\n",
    "\n",
    "# ensures that the new files are the same as the old files\n",
    "print(list(difflib.unified_diff(random_file_1.split(\" \"), run2_random_file_1.split(\" \"))))\n",
    "print(list(difflib.unified_diff(random_file_2.split(\" \"), run2_random_file_2.split(\" \"))))\n",
    "print(list(difflib.unified_diff(random_file_3.split(\" \"), run2_random_file_3.split(\" \"))))"
   ]
  }
 ],
 "metadata": {
  "kernelspec": {
   "display_name": "Python [conda env:23_9_15]",
   "language": "python",
   "name": "conda-env-23_9_15-py"
  },
  "language_info": {
   "codemirror_mode": {
    "name": "ipython",
    "version": 3
   },
   "file_extension": ".py",
   "mimetype": "text/x-python",
   "name": "python",
   "nbconvert_exporter": "python",
   "pygments_lexer": "ipython3",
   "version": "3.8.18"
  }
 },
 "nbformat": 4,
 "nbformat_minor": 5
}
