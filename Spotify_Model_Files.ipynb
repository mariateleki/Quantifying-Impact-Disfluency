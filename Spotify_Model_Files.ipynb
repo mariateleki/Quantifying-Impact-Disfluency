{
 "cells": [
  {
   "cell_type": "markdown",
   "id": "b03cd026-32d7-425a-a1c3-dfd390de8d9d",
   "metadata": {},
   "source": [
    "# Spotify_Model_Files.ipynb\n",
    "For creating the train and test files to use with run_summarization_no_trainer.py."
   ]
  },
  {
   "cell_type": "code",
   "execution_count": 1,
   "id": "108af1f9-d8f8-4fba-8de9-e7d1943a29ca",
   "metadata": {},
   "outputs": [],
   "source": [
    "import os\n",
    "\n",
    "import utils_general\n",
    "import utils_model_files"
   ]
  },
  {
   "cell_type": "code",
   "execution_count": 2,
   "id": "6c745f05-ef5c-4b26-843c-15cebdc4cfd3",
   "metadata": {},
   "outputs": [],
   "source": [
    "utils_general.create_and_or_clear_this_dir(os.path.join(utils_general.PATH_TO_PROJECT, \"model_files\"))"
   ]
  },
  {
   "cell_type": "code",
   "execution_count": 3,
   "id": "4aeaee0d-e69f-4179-9ddd-220852946dcd",
   "metadata": {},
   "outputs": [],
   "source": [
    "# write out the test set files\n",
    "for test_version in [\"-1\", \"0\", \"tagged\"]:\n",
    "\n",
    "    i_dir = os.path.join(utils_general.PATH_TO_PROJECT, \"spotify_test\", test_version)\n",
    "    o_dir = os.path.join(utils_general.PATH_TO_PROJECT, \"model_files\")\n",
    "    json_filename = \"test_\"+test_version\n",
    "\n",
    "    utils_model_files.write_json(i_dir, o_dir, json_filename, \"testset\")"
   ]
  },
  {
   "cell_type": "code",
   "execution_count": 4,
   "id": "9f40af74-5bae-4f12-8a0f-10d75384e6dc",
   "metadata": {},
   "outputs": [],
   "source": [
    "# write out the train set files\n",
    "seed_number = 0\n",
    "for train_version in [\"-1\", \"0\", \"tagged\"]:\n",
    "\n",
    "    i_dir = os.path.join(utils_general.PATH_TO_PROJECT, \"spotify_train\", f\"percent_0.01_random_state_{seed_number}\", train_version)\n",
    "    o_dir = os.path.join(utils_general.PATH_TO_PROJECT, \"model_files\")\n",
    "    json_filename = \"train_\"+train_version\n",
    "\n",
    "    utils_model_files.write_json(i_dir, o_dir, json_filename, \"trainset\")"
   ]
  },
  {
   "cell_type": "code",
   "execution_count": 5,
   "id": "6a4b4143-9e5d-4a9e-8cd9-830689bdbe3e",
   "metadata": {},
   "outputs": [],
   "source": [
    "# write out the validation set files\n",
    "seed_number = 1\n",
    "for valid_version in [\"-1\", \"0\", \"tagged\"]:\n",
    "\n",
    "    i_dir = os.path.join(utils_general.PATH_TO_PROJECT, \"spotify_train\", f\"percent_0.01_random_state_{seed_number}\", valid_version)\n",
    "    o_dir = os.path.join(utils_general.PATH_TO_PROJECT, \"model_files\")\n",
    "    json_filename = \"valid_\"+valid_version\n",
    "\n",
    "    utils_model_files.write_json(i_dir, o_dir, json_filename, \"trainset\")"
   ]
  }
 ],
 "metadata": {
  "kernelspec": {
   "display_name": "Python [conda env:23_9_15]",
   "language": "python",
   "name": "conda-env-23_9_15-py"
  },
  "language_info": {
   "codemirror_mode": {
    "name": "ipython",
    "version": 3
   },
   "file_extension": ".py",
   "mimetype": "text/x-python",
   "name": "python",
   "nbconvert_exporter": "python",
   "pygments_lexer": "ipython3",
   "version": "3.8.18"
  }
 },
 "nbformat": 4,
 "nbformat_minor": 5
}
