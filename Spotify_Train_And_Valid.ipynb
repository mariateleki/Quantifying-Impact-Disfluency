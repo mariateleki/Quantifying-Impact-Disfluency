{
 "cells": [
  {
   "cell_type": "markdown",
   "id": "b197d71e-e78e-4e3d-a6f3-136d5b5b0d46",
   "metadata": {},
   "source": [
    "# Spotify_Train_And_Valid"
   ]
  },
  {
   "cell_type": "code",
   "execution_count": 1,
   "id": "dff95ce4-fd02-41b1-a891-f78413624af0",
   "metadata": {},
   "outputs": [],
   "source": [
    "import os\n",
    "import random\n",
    "import pandas as pd\n",
    "import numpy as np\n",
    "\n",
    "import utils_general\n",
    "import utils_podcasts"
   ]
  },
  {
   "cell_type": "code",
   "execution_count": 2,
   "id": "1b5dbc5f-cda2-4ed7-9696-3a62ec822698",
   "metadata": {},
   "outputs": [],
   "source": [
    "# given spotify ids, return path w/ PATH_TO_SPOTIFY augmenting the path\n",
    "def get_filepath(show_filename_prefix, episode_filename_prefix):\n",
    "    \n",
    "    outer_dir = show_filename_prefix.replace(\"show_\",\"\")[0].upper()\n",
    "    inner_dir = show_filename_prefix.replace(\"show_\",\"\")[1].upper()\n",
    "    \n",
    "    path = os.path.join(utils_general.PATH_TO_TRAINSET_DIR, outer_dir, inner_dir, show_filename_prefix, episode_filename_prefix+\".json\")\n",
    "    \n",
    "    return path"
   ]
  },
  {
   "cell_type": "code",
   "execution_count": 3,
   "id": "87b9af51-aa40-4015-aaa4-fcd1d9240ced",
   "metadata": {},
   "outputs": [],
   "source": [
    "df = pd.read_csv(utils_general.PATH_TO_TRAINSET_DF, sep=\"\\t\")\n",
    "\n",
    "f = 0.01\n",
    "for n in range(0,10+1):\n",
    "    \n",
    "    temp_df = df.sample(frac=f, random_state=n)\n",
    "    \n",
    "    output_path = os.path.join(utils_general.PATH_TO_PROJECT, \"spotify_train\", \"percent_\"+str(f)+\"_random_state_\"+str(n))\n",
    "    utils_general.create_and_or_clear_this_dir(output_path)\n",
    "    \n",
    "    for row in temp_df.itertuples():\n",
    "        \n",
    "        json_filepath = get_filepath(row.show_filename_prefix, row.episode_filename_prefix)\n",
    "        transcript_text = utils_podcasts.get_shortened_transcript_text_from_json_asr_file(json_filepath, 60.0)\n",
    "        \n",
    "        filename_path = os.path.join(output_path, row.episode_filename_prefix + \".txt\")\n",
    "        utils_general.write_file_if_not_blank(filename_path, transcript_text)\n",
    "    \n",
    "    # write the metadata.tsv file for this sample (subset) of the transcripts to a \"df\" directory in the directory\n",
    "    temp_df_path = os.path.join(output_path, \"df\")\n",
    "    utils_general.create_and_or_clear_this_dir(temp_df_path)\n",
    "    temp_df.to_csv(os.path.join(temp_df_path, \"metadata.tsv\"), sep=\"\\t\")"
   ]
  }
 ],
 "metadata": {
  "kernelspec": {
   "display_name": "Python [conda env:23_9_15]",
   "language": "python",
   "name": "conda-env-23_9_15-py"
  },
  "language_info": {
   "codemirror_mode": {
    "name": "ipython",
    "version": 3
   },
   "file_extension": ".py",
   "mimetype": "text/x-python",
   "name": "python",
   "nbconvert_exporter": "python",
   "pygments_lexer": "ipython3",
   "version": "3.8.18"
  }
 },
 "nbformat": 4,
 "nbformat_minor": 5
}
