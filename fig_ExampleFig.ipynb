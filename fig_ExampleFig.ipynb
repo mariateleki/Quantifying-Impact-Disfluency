{
 "cells": [
  {
   "cell_type": "markdown",
   "id": "b42a3a0c-40a9-49c0-9653-c5ab2b0bf758",
   "metadata": {},
   "source": [
    "# Example Figure Notebook"
   ]
  },
  {
   "cell_type": "code",
   "execution_count": 1,
   "id": "bd73d588-3d66-484d-a22b-77d718d81b8c",
   "metadata": {},
   "outputs": [],
   "source": [
    "import matplotlib\n",
    "import numpy as np\n",
    "import os\n",
    "\n",
    "import seaborn as sns\n",
    "import matplotlib.style as style\n",
    "import matplotlib\n",
    "import matplotlib.pyplot as plt\n",
    "import pandas as pd\n",
    "from itertools import cycle\n",
    "from matplotlib.patches import Patch\n",
    "from matplotlib.lines import Line2D\n",
    "\n",
    "import utils_general\n",
    "import utils_podcasts\n",
    "import utils_transformations"
   ]
  },
  {
   "cell_type": "code",
   "execution_count": 2,
   "id": "3218da88-8b33-4354-9f32-9a0bd2fc7e23",
   "metadata": {},
   "outputs": [],
   "source": [
    "FIGS_DIR = os.path.join(utils_general.PATH_TO_PROJECT,\"figs\")\n",
    "utils_general.just_create_this_dir(FIGS_DIR)"
   ]
  },
  {
   "cell_type": "code",
   "execution_count": 3,
   "id": "37ecdd46-30b0-4b37-bc4a-97d0ebc2faf3",
   "metadata": {},
   "outputs": [
    {
     "name": "stdout",
     "output_type": "stream",
     "text": [
      "Hello and welcome to our podcast! Let's get get get get right to it. Today we're going to be interviewing a a a a very special guest, someone I know you guys have been excited about having on the show.\n",
      "Hello and welcome to our podcast! Let's get right uh okay okay to it. Today we're going to be interviewing a very special um so I mean guest, someone I know you guys have been excited about having on the show.\n",
      "Hello and welcome to our podcast! Let's get right to it. Today we're today we're today we're today we're going to be interviewing a very special guest, someone I know you guys have been excited about having on the show.\n"
     ]
    }
   ],
   "source": [
    "example_text = \"Hello and welcome to our podcast! Let's get right to it. Today we're going to be interviewing a very special guest, someone I know you guys have been excited about having on the show.\"\n",
    "\n",
    "rng = np.random.default_rng(seed=100)\n",
    "n = 3\n",
    "\n",
    "repeats_text = utils_transformations.get_repeats_text(n, example_text, rng) \n",
    "print(repeats_text)\n",
    "\n",
    "interjections_text = utils_transformations.get_interjections_text(n, example_text, rng)\n",
    "print(interjections_text)\n",
    "\n",
    "false_starts_text = utils_transformations.get_false_starts_text(n, example_text, rng)\n",
    "print(false_starts_text)"
   ]
  },
  {
   "cell_type": "code",
   "execution_count": null,
   "id": "097ebc98-8da5-4e30-8097-87acb21c73d8",
   "metadata": {},
   "outputs": [],
   "source": []
  }
 ],
 "metadata": {
  "kernelspec": {
   "display_name": "Python [conda env:fig_env]",
   "language": "python",
   "name": "conda-env-fig_env-py"
  },
  "language_info": {
   "codemirror_mode": {
    "name": "ipython",
    "version": 3
   },
   "file_extension": ".py",
   "mimetype": "text/x-python",
   "name": "python",
   "nbconvert_exporter": "python",
   "pygments_lexer": "ipython3",
   "version": "3.8.18"
  }
 },
 "nbformat": 4,
 "nbformat_minor": 5
}
