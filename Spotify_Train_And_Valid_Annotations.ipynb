{
 "cells": [
  {
   "cell_type": "markdown",
   "id": "0f01b253-7899-4da8-aede-2e7db82c40f4",
   "metadata": {},
   "source": [
    "# Spotify_Annotations\n",
    "Converts the output from Jamshid Lou and Johnson's (2020) model to a repaired transcript."
   ]
  },
  {
   "cell_type": "code",
   "execution_count": 1,
   "id": "b6086340-541f-4b0e-9b6d-845aa7d51aa2",
   "metadata": {},
   "outputs": [],
   "source": [
    "import os\n",
    "\n",
    "import utils_general\n",
    "import utils_repaired_and_tagged"
   ]
  },
  {
   "cell_type": "markdown",
   "id": "b4c180d5-6680-4973-a186-56dd84f73827",
   "metadata": {},
   "source": [
    "## Use seed_number=0 for the training set"
   ]
  },
  {
   "cell_type": "code",
   "execution_count": 2,
   "id": "b022a093-bd7a-4696-8630-7c0d802607d3",
   "metadata": {},
   "outputs": [],
   "source": [
    "utils_repaired_and_tagged.write_repaired_and_tagged_transcripts(input_dir=\"spotify_train\", seed_number=0)"
   ]
  },
  {
   "cell_type": "code",
   "execution_count": 3,
   "id": "4e2cfb53-f29d-4f46-9d3c-6403aa9fa106",
   "metadata": {},
   "outputs": [],
   "source": [
    "# add in a zero dir for the training data so it will be consistent for writing the model_files in the next step\n",
    "seed_number = 0\n",
    "input_dir = os.path.join(utils_general.PATH_TO_PROJECT, \"spotify_train\", f\"percent_0.01_random_state_{seed_number}\")\n",
    "output_dir = os.path.join(utils_general.PATH_TO_PROJECT, \"spotify_train\", f\"percent_0.01_random_state_{seed_number}\", \"0\")\n",
    "utils_general.create_and_or_clear_this_dir(output_dir)\n",
    "\n",
    "files_list = [file for file in os.listdir(input_dir) if file.endswith(\".txt\")]\n",
    "for f in files_list:\n",
    "    \n",
    "    text = utils_general.read_file(os.path.join(input_dir, f))\n",
    "    utils_general.write_file(f, output_dir, text)"
   ]
  },
  {
   "cell_type": "markdown",
   "id": "38c1b654-2227-4d5a-9a1e-d7daa9bab5f3",
   "metadata": {},
   "source": [
    "## Use seed_number=1 for the validation set"
   ]
  },
  {
   "cell_type": "code",
   "execution_count": 4,
   "id": "a7fdcaba-64ce-470a-8af6-abed45839a01",
   "metadata": {},
   "outputs": [],
   "source": [
    "utils_repaired_and_tagged.write_repaired_and_tagged_transcripts(input_dir=\"spotify_train\", seed_number=1)"
   ]
  },
  {
   "cell_type": "code",
   "execution_count": 5,
   "id": "261f3524-3f6c-41f7-b095-61fa88061964",
   "metadata": {},
   "outputs": [],
   "source": [
    "# add in a zero dir for the validation data so it will be consistent for writing the model_files in the next step\n",
    "seed_number = 1\n",
    "input_dir = os.path.join(utils_general.PATH_TO_PROJECT, \"spotify_train\", f\"percent_0.01_random_state_{seed_number}\")\n",
    "output_dir = os.path.join(utils_general.PATH_TO_PROJECT, \"spotify_train\", f\"percent_0.01_random_state_{seed_number}\", \"0\")\n",
    "utils_general.create_and_or_clear_this_dir(output_dir)\n",
    "\n",
    "files_list = [file for file in os.listdir(input_dir) if file.endswith(\".txt\")]\n",
    "for f in files_list:\n",
    "    \n",
    "    text = utils_general.read_file(os.path.join(input_dir, f))\n",
    "    utils_general.write_file(f, output_dir, text)"
   ]
  }
 ],
 "metadata": {
  "kernelspec": {
   "display_name": "Python [conda env:pytorch_env_3.8]",
   "language": "python",
   "name": "conda-env-pytorch_env_3.8-py"
  },
  "language_info": {
   "codemirror_mode": {
    "name": "ipython",
    "version": 3
   },
   "file_extension": ".py",
   "mimetype": "text/x-python",
   "name": "python",
   "nbconvert_exporter": "python",
   "pygments_lexer": "ipython3",
   "version": "3.8.18"
  }
 },
 "nbformat": 4,
 "nbformat_minor": 5
}
