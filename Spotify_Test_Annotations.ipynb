{
 "cells": [
  {
   "cell_type": "markdown",
   "id": "0f01b253-7899-4da8-aede-2e7db82c40f4",
   "metadata": {},
   "source": [
    "# Spotify_Annotations\n",
    "Converts the output from Jamshid Lou and Johnson's (2020) model to a repaired transcript."
   ]
  },
  {
   "cell_type": "code",
   "execution_count": 1,
   "id": "b6086340-541f-4b0e-9b6d-845aa7d51aa2",
   "metadata": {},
   "outputs": [],
   "source": [
    "import os\n",
    "\n",
    "import utils_general\n",
    "import utils_repaired_and_tagged"
   ]
  },
  {
   "cell_type": "code",
   "execution_count": 2,
   "id": "b022a093-bd7a-4696-8630-7c0d802607d3",
   "metadata": {},
   "outputs": [],
   "source": [
    "utils_repaired_and_tagged.write_repaired_and_tagged_transcripts(input_dir=\"spotify_test\")"
   ]
  }
 ],
 "metadata": {
  "kernelspec": {
   "display_name": "Python [conda env:pytorch_env_3.8]",
   "language": "python",
   "name": "conda-env-pytorch_env_3.8-py"
  },
  "language_info": {
   "codemirror_mode": {
    "name": "ipython",
    "version": 3
   },
   "file_extension": ".py",
   "mimetype": "text/x-python",
   "name": "python",
   "nbconvert_exporter": "python",
   "pygments_lexer": "ipython3",
   "version": "3.8.18"
  }
 },
 "nbformat": 4,
 "nbformat_minor": 5
}
